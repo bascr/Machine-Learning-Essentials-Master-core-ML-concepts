{
 "cells": [
  {
   "cell_type": "markdown",
   "id": "c052d881",
   "metadata": {},
   "source": [
    "**LMS (Least Mean Squeares) Update Rule**\n",
    "\n",
    "$$ \\theta_j := \\theta_j - \\alpha * \\frac{\\partial}{\\partial \\theta_j} J(\\theta)$$\n",
    "\n",
    "It finds the partial derivative ($\\frac{\\partial}{\\partial x}$) of the loss function with respect to each $\\theta$ parameter.\n",
    "\n",
    "A **Partial Derivative** indicates how much the total loss is increased or decreased if you increase $\\theta$ parameter by a very small amount."
   ]
  },
  {
   "cell_type": "markdown",
   "id": "01837f7c",
   "metadata": {},
   "source": [
    "**Loss\\Cost Function \\ Gradient Descent**\n",
    "\n",
    "$$J(\\theta) = \\frac{1}{2m}\\sum_{i=1}^{m}[h_\\theta(x^{(i)}) - y^{(i)}]²$$\n",
    "$$= \\frac{1}{2m}\\sum_{i=1}^{m}[\\theta_0 + \\theta_1x^{(i)} - y^{(i)}]²$$"
   ]
  },
  {
   "cell_type": "markdown",
   "id": "da0a3966",
   "metadata": {},
   "source": [
    "**Partial derivative of $\\theta_0$**\n",
    "\n",
    "$$\\frac{\\partial J(\\theta)}{\\partial \\theta_0} = \\frac{1}{2m}2\\sum_{i=1}^{m}[\\theta_0 + \\theta_1x^{(i)} - y^{(i)}][1 + 0 + 0]$$\n",
    "\n",
    "$$= \\frac{1}{m}\\sum_{i=1}^{m}[h_\\theta(x^{(i)}) - y^{(i)}]$$\n"
   ]
  },
  {
   "cell_type": "markdown",
   "id": "cf260f72",
   "metadata": {},
   "source": [
    "**Partial derivative of $\\theta_1$**\n",
    "\n",
    "$$\\frac{\\partial J(\\theta)}{\\partial \\theta_1} = \\frac{1}{2m}2\\sum_{i=1}^{m}[\\theta_0 + \\theta_1x^{(i)} - y^{(i)}][0 + x^{(i)} + 0]$$\n",
    "\n",
    "$$= \\frac{1}{m}\\sum_{i=1}^{m}[h_\\theta(x^{(i)}) - y^{(i)}]x^{(i)}$$\n"
   ]
  },
  {
   "cell_type": "markdown",
   "id": "8163434c",
   "metadata": {},
   "source": [
    "**Least Mean Squares per parameter $\\theta_0$ & $\\theta_1$**\n",
    "\n",
    "$$\\theta_0 = \\theta_0 - \\alpha * \\frac{\\partial J(\\theta)}{\\partial \\theta_0}$$\n",
    "$$\\theta_1 = \\theta_1 - \\alpha * \\frac{\\partial J(\\theta)}{\\partial \\theta_1}$$"
   ]
  },
  {
   "cell_type": "markdown",
   "id": "94b14843",
   "metadata": {},
   "source": [
    "### Implementation"
   ]
  },
  {
   "cell_type": "code",
   "execution_count": 2,
   "id": "89dfaa9c",
   "metadata": {},
   "outputs": [],
   "source": [
    "import numpy as np\n",
    "import matplotlib.pyplot as plt\n",
    "plt.style.use(\"seaborn-v0_8-whitegrid\")"
   ]
  },
  {
   "cell_type": "markdown",
   "id": "bc422684",
   "metadata": {},
   "source": [
    "**Data Generation**"
   ]
  },
  {
   "cell_type": "code",
   "execution_count": 23,
   "id": "85e1bba0",
   "metadata": {},
   "outputs": [],
   "source": [
    "def generate_dataset(m):\n",
    "    X = np.random.randn(m) * 10 # standar deviation aprox. 10\n",
    "    noise = np.random.randn(m) # Add noise\n",
    "    y = 3*X + 1 + 5*noise\n",
    "    return X,y"
   ]
  },
  {
   "cell_type": "code",
   "execution_count": 29,
   "id": "d5b1e62c",
   "metadata": {},
   "outputs": [
    {
     "name": "stdout",
     "output_type": "stream",
     "text": [
      "X mean: 1.2845302994382553 - X std: 10.959657238504038\n",
      "y mean: 5.161601373162926 - y std: 32.16814492597969\n",
      "(100,) (100,)\n"
     ]
    }
   ],
   "source": [
    "X, y = generate_dataset(m=100)\n",
    "\n",
    "print(\"X mean:\", X.mean(), \"- X std:\", X.std())\n",
    "print(\"y mean:\", y.mean(), \"- y std:\", y.std())\n",
    "print(X.shape, y.shape)"
   ]
  },
  {
   "cell_type": "code",
   "execution_count": 32,
   "id": "e7f34078",
   "metadata": {},
   "outputs": [],
   "source": [
    "def plot_data(X, y, color=\"orange\", title=\"Data\"):\n",
    "    plt.title(title)\n",
    "    plt.xlabel(\"X\")\n",
    "    plt.ylabel(\"Y\")\n",
    "    plt.scatter(X, y, c=color)\n",
    "    plt.show()"
   ]
  },
  {
   "cell_type": "code",
   "execution_count": 33,
   "id": "7a2b2817",
   "metadata": {},
   "outputs": [
    {
     "data": {
      "image/png": "[encoded data removed]",
      "text/plain": [
       "<Figure size 640x480 with 1 Axes>"
      ]
     },
     "metadata": {},
     "output_type": "display_data"
    }
   ],
   "source": [
    "plot_data(X, y)"
   ]
  },
  {
   "cell_type": "code",
   "execution_count": null,
   "id": "db8d40f6",
   "metadata": {},
   "outputs": [],
   "source": []
  }
 ],
 "metadata": {
  "kernelspec": {
   "display_name": "Python 3 (ipykernel)",
   "language": "python",
   "name": "python3"
  },
  "language_info": {
   "codemirror_mode": {
    "name": "ipython",
    "version": 3
   },
   "file_extension": ".py",
   "mimetype": "text/x-python",
   "name": "python",
   "nbconvert_exporter": "python",
   "pygments_lexer": "ipython3",
   "version": "3.11.7"
  }
 },
 "nbformat": 4,
 "nbformat_minor": 5
}
