{
 "cells": [
  {
   "cell_type": "markdown",
   "id": "32d998dd",
   "metadata": {},
   "source": [
    "## Multiple Linear Regression"
   ]
  },
  {
   "cell_type": "markdown",
   "id": "b65cced2",
   "metadata": {},
   "source": [
    "**Hipothesis**\n",
    "\n",
    "Similar to Linear Regression, the hypothesys approximate $y$ as a linear function of $x$ with multiple variables.\n",
    "\n",
    "$$h_{\\theta}(x) = \\theta_0 + \\theta_1x_1 + \\theta_2x_2 + \\theta_3x_3 + ... +  \\theta_nx_n$$\n",
    "\n",
    "$$h_{\\theta}(x) = \\theta_0 + \\sum_{i=1}^{n}\\theta_iX_i$$\n",
    "\n",
    "\n",
    "If we consider the definition of the hypothesis, during the implementation, always $x_0 = 1$:\n",
    "\n",
    "| $\\theta_0x_0$ | $\\theta_1x_1$ | $\\theta_2x_2$ | $\\theta_3x_3$ | $\\theta_nx_n$ |\n",
    "|:-------------:|:-------------:|:-------------:|:-------------:|:-------------:|\n",
    "|       1       |      ...      |      ...      |      ...      |      ...      |\n",
    "|       1       |      ...      |      ...      |      ...      |      ...      |\n",
    "|       1       |      ...      |      ...      |      ...      |      ...      |\n",
    "|       1       |      ...      |      ...      |      ...      |      ...      |\n",
    "|       1       |      ...      |      ...      |      ...      |      ...      |\n",
    "\n",
    "So, based on this, we can say:\n",
    "\n",
    "$$h_{\\theta}(x) = \\sum_{i=0}^{n}\\theta_iX_i$$\n",
    "\n",
    "\n",
    "The vector $\\theta$ will have the shape equals to $(n+1, 1)$\n",
    "\n",
    "$$\\theta = \\begin{bmatrix}\\theta_0 \\\\ \\theta_1 \\\\ \\theta_2 \\\\ \\theta_3 \\\\ \\theta_n\\end{bmatrix}$$\n",
    "\n",
    "and the vector $x$ will be represented as:\n",
    "\n",
    "$$x = \\begin{bmatrix}1 \\\\ x_1 \\\\ x_2 \\\\ x_3 \\\\ x_n\\end{bmatrix}$$\n",
    "\n",
    "If we transpose $\\theta$ will have:\n",
    "\n",
    "$$h_{\\theta}(x) = \\theta^\\intercal x$$\n",
    "\n",
    "Which is represented as:\n",
    "\n",
    "$$\\begin{bmatrix}\\theta_0 & \\theta_1 & \\theta_2 & \\theta_3 & \\theta_n\\end{bmatrix} \\begin{bmatrix}1 \\\\ x_1 \\\\ x_2 \\\\ x_3 \\\\ x_n\\end{bmatrix} = \\theta_0 + \\theta_1x_1 + \\theta_2x_2 + \\theta_3x_3 + \\theta_nx_n$$"
   ]
  },
  {
   "cell_type": "markdown",
   "id": "0310e29c",
   "metadata": {},
   "source": [
    "**Loss Function: Mean Squared Error**\n",
    "\n",
    "$$J = \\frac{1}{2m} \\sum_{i=1}^{m}(ŷ^{(i)} - y^{(i)})²$$\n",
    "\n",
    "$$J = \\frac{1}{2m}\\sum_{i=1}^{m}[h_\\theta(x^{(i)}) - y^{(i)}]²$$\n",
    "\n",
    "$$J = \\frac{1}{2m}\\sum_{i=1}^{m}[\\theta^\\intercal x - y^{(i)}]²$$\n"
   ]
  },
  {
   "cell_type": "markdown",
   "id": "0540b595",
   "metadata": {},
   "source": [
    "**Gradient Descent: Generalize update for $\\theta_j$ Update Rule**\n",
    "\n",
    "$$\\require{cancel}$$  \n",
    "\n",
    "$$\\theta_j = \\theta_j - \\alpha * \\frac{\\partial J(\\theta)}{\\partial \\theta_j}$$\n",
    "\n",
    "Let's consider again $J$ as:\n",
    "\n",
    "$$J = \\frac{1}{2m}\\sum_{i=1}^{m}[h_\\theta(x^{(i)}) - y^{(i)}]²$$\n",
    "\n",
    "\n",
    "$$\\frac{\\partial J(\\theta)}{\\partial \\theta_j} =  \\frac{ \\cancel{2} }{\\cancel{2}m}\\sum_{i=1}^{m}[h_\\theta(x^{(i)}) - y^{(i)}](\\cancel{\\theta_0} + \\cancel{\\theta_1x_1} + \\cancel{\\theta_2x_2} + \\theta_jx_j + \\cancel{\\theta_nx_n})$$\n",
    "\n",
    "\n",
    "$$\\frac{\\partial J(\\theta)}{\\partial \\theta_j} =  \\frac{1}{m}\\sum_{i=1}^{m}[h_\\theta(x^{(i)}) - y^{(i)}]x_j^{(i)}$$"
   ]
  },
  {
   "cell_type": "markdown",
   "id": "7d9894a9",
   "metadata": {},
   "source": [
    "### Implementation"
   ]
  },
  {
   "cell_type": "code",
   "execution_count": 27,
   "id": "f729605f",
   "metadata": {},
   "outputs": [],
   "source": [
    "import numpy as np\n",
    "import pandas as pd\n",
    "import matplotlib.pyplot as plt\n",
    "from sklearn.datasets import make_regression\n",
    "from sklearn.model_selection import train_test_split\n",
    "plt.style.use(\"seaborn-v0_8-whitegrid\")"
   ]
  },
  {
   "cell_type": "markdown",
   "id": "8fd75d81",
   "metadata": {},
   "source": [
    "**Generate the data**"
   ]
  },
  {
   "cell_type": "code",
   "execution_count": 2,
   "id": "e28023ea",
   "metadata": {},
   "outputs": [
    {
     "name": "stdout",
     "output_type": "stream",
     "text": [
      "X shape: (500, 10) y shape: (500,)\n"
     ]
    }
   ],
   "source": [
    "X, y = make_regression(n_samples=500, n_features=10, n_informative=5, noise=25.8, random_state=0)\n",
    "print(\"X shape:\", X.shape, \"y shape:\", y.shape)"
   ]
  },
  {
   "cell_type": "code",
   "execution_count": 3,
   "id": "de7c2715",
   "metadata": {},
   "outputs": [
    {
     "data": {
      "text/html": [
       "<div>\n",
       "<style scoped>\n",
       "    .dataframe tbody tr th:only-of-type {\n",
       "        vertical-align: middle;\n",
       "    }\n",
       "\n",
       "    .dataframe tbody tr th {\n",
       "        vertical-align: top;\n",
       "    }\n",
       "\n",
       "    .dataframe thead th {\n",
       "        text-align: right;\n",
       "    }\n",
       "</style>\n",
       "<table border=\"1\" class=\"dataframe\">\n",
       "  <thead>\n",
       "    <tr style=\"text-align: right;\">\n",
       "      <th></th>\n",
       "      <th>0</th>\n",
       "      <th>1</th>\n",
       "      <th>2</th>\n",
       "      <th>3</th>\n",
       "      <th>4</th>\n",
       "      <th>5</th>\n",
       "      <th>6</th>\n",
       "      <th>7</th>\n",
       "      <th>8</th>\n",
       "      <th>9</th>\n",
       "    </tr>\n",
       "  </thead>\n",
       "  <tbody>\n",
       "    <tr>\n",
       "      <th>0</th>\n",
       "      <td>1.706468</td>\n",
       "      <td>1.511639</td>\n",
       "      <td>-0.000417</td>\n",
       "      <td>0.374155</td>\n",
       "      <td>0.073285</td>\n",
       "      <td>0.701783</td>\n",
       "      <td>0.409552</td>\n",
       "      <td>-0.461894</td>\n",
       "      <td>-0.626490</td>\n",
       "      <td>-0.799593</td>\n",
       "    </tr>\n",
       "    <tr>\n",
       "      <th>1</th>\n",
       "      <td>-1.616956</td>\n",
       "      <td>0.640132</td>\n",
       "      <td>-0.369182</td>\n",
       "      <td>-0.239379</td>\n",
       "      <td>-0.738031</td>\n",
       "      <td>-0.024326</td>\n",
       "      <td>1.099660</td>\n",
       "      <td>0.279925</td>\n",
       "      <td>-0.098150</td>\n",
       "      <td>0.655264</td>\n",
       "    </tr>\n",
       "    <tr>\n",
       "      <th>2</th>\n",
       "      <td>0.093953</td>\n",
       "      <td>-0.130107</td>\n",
       "      <td>0.929505</td>\n",
       "      <td>0.582225</td>\n",
       "      <td>-2.739677</td>\n",
       "      <td>0.943046</td>\n",
       "      <td>-2.094603</td>\n",
       "      <td>-0.569312</td>\n",
       "      <td>0.269904</td>\n",
       "      <td>0.123722</td>\n",
       "    </tr>\n",
       "    <tr>\n",
       "      <th>3</th>\n",
       "      <td>-1.542758</td>\n",
       "      <td>-0.789954</td>\n",
       "      <td>0.537035</td>\n",
       "      <td>-0.286835</td>\n",
       "      <td>-2.369623</td>\n",
       "      <td>-0.767332</td>\n",
       "      <td>1.634406</td>\n",
       "      <td>-0.260560</td>\n",
       "      <td>0.128957</td>\n",
       "      <td>0.571227</td>\n",
       "    </tr>\n",
       "    <tr>\n",
       "      <th>4</th>\n",
       "      <td>-0.101003</td>\n",
       "      <td>-2.231538</td>\n",
       "      <td>0.436187</td>\n",
       "      <td>1.571463</td>\n",
       "      <td>1.324868</td>\n",
       "      <td>-0.587375</td>\n",
       "      <td>1.077315</td>\n",
       "      <td>0.840648</td>\n",
       "      <td>0.261106</td>\n",
       "      <td>0.811090</td>\n",
       "    </tr>\n",
       "  </tbody>\n",
       "</table>\n",
       "</div>"
      ],
      "text/plain": [
       "          0         1         2         3         4         5         6  \\\n",
       "0  1.706468  1.511639 -0.000417  0.374155  0.073285  0.701783  0.409552   \n",
       "1 -1.616956  0.640132 -0.369182 -0.239379 -0.738031 -0.024326  1.099660   \n",
       "2  0.093953 -0.130107  0.929505  0.582225 -2.739677  0.943046 -2.094603   \n",
       "3 -1.542758 -0.789954  0.537035 -0.286835 -2.369623 -0.767332  1.634406   \n",
       "4 -0.101003 -2.231538  0.436187  1.571463  1.324868 -0.587375  1.077315   \n",
       "\n",
       "          7         8         9  \n",
       "0 -0.461894 -0.626490 -0.799593  \n",
       "1  0.279925 -0.098150  0.655264  \n",
       "2 -0.569312  0.269904  0.123722  \n",
       "3 -0.260560  0.128957  0.571227  \n",
       "4  0.840648  0.261106  0.811090  "
      ]
     },
     "execution_count": 3,
     "metadata": {},
     "output_type": "execute_result"
    }
   ],
   "source": [
    "df = pd.DataFrame(X).head()\n",
    "df"
   ]
  },
  {
   "cell_type": "markdown",
   "id": "db1625c9",
   "metadata": {},
   "source": [
    "**Normalize**"
   ]
  },
  {
   "cell_type": "code",
   "execution_count": 4,
   "id": "aa30c193",
   "metadata": {},
   "outputs": [],
   "source": [
    "def normalize(X):\n",
    "    u = X.mean(axis=0)\n",
    "    std = X.std(axis=0)\n",
    "    return (X-u)/std"
   ]
  },
  {
   "cell_type": "code",
   "execution_count": 5,
   "id": "9fc93687",
   "metadata": {},
   "outputs": [],
   "source": [
    "X = normalize(X=X)"
   ]
  },
  {
   "cell_type": "code",
   "execution_count": 6,
   "id": "0a8dc424",
   "metadata": {},
   "outputs": [
    {
     "data": {
      "text/html": [
       "<div>\n",
       "<style scoped>\n",
       "    .dataframe tbody tr th:only-of-type {\n",
       "        vertical-align: middle;\n",
       "    }\n",
       "\n",
       "    .dataframe tbody tr th {\n",
       "        vertical-align: top;\n",
       "    }\n",
       "\n",
       "    .dataframe thead th {\n",
       "        text-align: right;\n",
       "    }\n",
       "</style>\n",
       "<table border=\"1\" class=\"dataframe\">\n",
       "  <thead>\n",
       "    <tr style=\"text-align: right;\">\n",
       "      <th></th>\n",
       "      <th>0</th>\n",
       "      <th>1</th>\n",
       "      <th>2</th>\n",
       "      <th>3</th>\n",
       "      <th>4</th>\n",
       "      <th>5</th>\n",
       "      <th>6</th>\n",
       "      <th>7</th>\n",
       "      <th>8</th>\n",
       "      <th>9</th>\n",
       "    </tr>\n",
       "  </thead>\n",
       "  <tbody>\n",
       "    <tr>\n",
       "      <th>0</th>\n",
       "      <td>1.764831</td>\n",
       "      <td>1.579606</td>\n",
       "      <td>0.093808</td>\n",
       "      <td>0.341546</td>\n",
       "      <td>0.103202</td>\n",
       "      <td>0.745205</td>\n",
       "      <td>0.421736</td>\n",
       "      <td>-0.461091</td>\n",
       "      <td>-0.710885</td>\n",
       "      <td>-0.761760</td>\n",
       "    </tr>\n",
       "    <tr>\n",
       "      <th>1</th>\n",
       "      <td>-1.612963</td>\n",
       "      <td>0.709920</td>\n",
       "      <td>-0.277540</td>\n",
       "      <td>-0.301827</td>\n",
       "      <td>-0.693297</td>\n",
       "      <td>-0.045695</td>\n",
       "      <td>1.116862</td>\n",
       "      <td>0.265971</td>\n",
       "      <td>-0.166048</td>\n",
       "      <td>0.714702</td>\n",
       "    </tr>\n",
       "    <tr>\n",
       "      <th>2</th>\n",
       "      <td>0.125936</td>\n",
       "      <td>-0.058708</td>\n",
       "      <td>1.030243</td>\n",
       "      <td>0.559735</td>\n",
       "      <td>-2.658385</td>\n",
       "      <td>1.007996</td>\n",
       "      <td>-2.100631</td>\n",
       "      <td>-0.566372</td>\n",
       "      <td>0.213499</td>\n",
       "      <td>0.175267</td>\n",
       "    </tr>\n",
       "    <tr>\n",
       "      <th>3</th>\n",
       "      <td>-1.537551</td>\n",
       "      <td>-0.717175</td>\n",
       "      <td>0.635024</td>\n",
       "      <td>-0.351591</td>\n",
       "      <td>-2.295090</td>\n",
       "      <td>-0.855000</td>\n",
       "      <td>1.655498</td>\n",
       "      <td>-0.263762</td>\n",
       "      <td>0.068151</td>\n",
       "      <td>0.629417</td>\n",
       "    </tr>\n",
       "    <tr>\n",
       "      <th>4</th>\n",
       "      <td>-0.072209</td>\n",
       "      <td>-2.155744</td>\n",
       "      <td>0.533470</td>\n",
       "      <td>1.597083</td>\n",
       "      <td>1.331926</td>\n",
       "      <td>-0.658985</td>\n",
       "      <td>1.094355</td>\n",
       "      <td>0.815541</td>\n",
       "      <td>0.204426</td>\n",
       "      <td>0.872842</td>\n",
       "    </tr>\n",
       "  </tbody>\n",
       "</table>\n",
       "</div>"
      ],
      "text/plain": [
       "          0         1         2         3         4         5         6  \\\n",
       "0  1.764831  1.579606  0.093808  0.341546  0.103202  0.745205  0.421736   \n",
       "1 -1.612963  0.709920 -0.277540 -0.301827 -0.693297 -0.045695  1.116862   \n",
       "2  0.125936 -0.058708  1.030243  0.559735 -2.658385  1.007996 -2.100631   \n",
       "3 -1.537551 -0.717175  0.635024 -0.351591 -2.295090 -0.855000  1.655498   \n",
       "4 -0.072209 -2.155744  0.533470  1.597083  1.331926 -0.658985  1.094355   \n",
       "\n",
       "          7         8         9  \n",
       "0 -0.461091 -0.710885 -0.761760  \n",
       "1  0.265971 -0.166048  0.714702  \n",
       "2 -0.566372  0.213499  0.175267  \n",
       "3 -0.263762  0.068151  0.629417  \n",
       "4  0.815541  0.204426  0.872842  "
      ]
     },
     "execution_count": 6,
     "metadata": {},
     "output_type": "execute_result"
    }
   ],
   "source": [
    "pd.DataFrame(X).head()"
   ]
  },
  {
   "cell_type": "code",
   "execution_count": 7,
   "id": "7af2636d",
   "metadata": {},
   "outputs": [
    {
     "data": {
      "text/plain": [
       "array([-2.75335310e-17,  5.82867088e-17, -1.06581410e-17, -1.39888101e-17,\n",
       "        2.49800181e-18,  4.28546088e-17,  1.43635104e-17,  1.46549439e-17,\n",
       "        7.14983628e-17, -1.07691633e-16])"
      ]
     },
     "execution_count": 7,
     "metadata": {},
     "output_type": "execute_result"
    }
   ],
   "source": [
    "X.mean(axis=0)"
   ]
  },
  {
   "cell_type": "code",
   "execution_count": 8,
   "id": "d069cab8",
   "metadata": {},
   "outputs": [
    {
     "data": {
      "text/plain": [
       "array([1., 1., 1., 1., 1., 1., 1., 1., 1., 1.])"
      ]
     },
     "execution_count": 8,
     "metadata": {},
     "output_type": "execute_result"
    }
   ],
   "source": [
    "X.std(axis=0)"
   ]
  },
  {
   "cell_type": "markdown",
   "id": "e421cbfa",
   "metadata": {},
   "source": [
    "**Visualize $y$ as function of each feature**"
   ]
  },
  {
   "cell_type": "code",
   "execution_count": 33,
   "id": "bf27a61a",
   "metadata": {},
   "outputs": [
    {
     "data": {
      "image/png": "[encoded data removed]",
      "text/plain": [
       "<Figure size 640x480 with 11 Axes>"
      ]
     },
     "metadata": {},
     "output_type": "display_data"
    }
   ],
   "source": [
    "for f in range(X.shape[1]):\n",
    "    plt.subplot(4, 3, f + 1)\n",
    "    plt.scatter(X[:,f], y)\n",
    "    \n",
    "plt.show()"
   ]
  },
  {
   "cell_type": "markdown",
   "id": "1e4f5d71",
   "metadata": {},
   "source": [
    "**Preprocess**"
   ]
  },
  {
   "cell_type": "code",
   "execution_count": 18,
   "id": "bbe7d696",
   "metadata": {},
   "outputs": [],
   "source": [
    "n_features = X.shape[1]"
   ]
  },
  {
   "cell_type": "code",
   "execution_count": 19,
   "id": "18482ea9",
   "metadata": {},
   "outputs": [],
   "source": [
    "def preprocess(X):\n",
    "    # Add dummy column of 1s in X as 0th column\n",
    "    if X.shape[1] == n_features: \n",
    "        m = X.shape[0]\n",
    "        ones = np.ones((m, 1))\n",
    "        X = np.hstack((ones, X))\n",
    "    return X"
   ]
  },
  {
   "cell_type": "code",
   "execution_count": 20,
   "id": "af3f393b",
   "metadata": {},
   "outputs": [
    {
     "data": {
      "text/html": [
       "<div>\n",
       "<style scoped>\n",
       "    .dataframe tbody tr th:only-of-type {\n",
       "        vertical-align: middle;\n",
       "    }\n",
       "\n",
       "    .dataframe tbody tr th {\n",
       "        vertical-align: top;\n",
       "    }\n",
       "\n",
       "    .dataframe thead th {\n",
       "        text-align: right;\n",
       "    }\n",
       "</style>\n",
       "<table border=\"1\" class=\"dataframe\">\n",
       "  <thead>\n",
       "    <tr style=\"text-align: right;\">\n",
       "      <th></th>\n",
       "      <th>0</th>\n",
       "      <th>1</th>\n",
       "      <th>2</th>\n",
       "      <th>3</th>\n",
       "      <th>4</th>\n",
       "      <th>5</th>\n",
       "      <th>6</th>\n",
       "      <th>7</th>\n",
       "      <th>8</th>\n",
       "      <th>9</th>\n",
       "      <th>10</th>\n",
       "    </tr>\n",
       "  </thead>\n",
       "  <tbody>\n",
       "    <tr>\n",
       "      <th>0</th>\n",
       "      <td>1.0</td>\n",
       "      <td>1.764831</td>\n",
       "      <td>1.579606</td>\n",
       "      <td>0.093808</td>\n",
       "      <td>0.341546</td>\n",
       "      <td>0.103202</td>\n",
       "      <td>0.745205</td>\n",
       "      <td>0.421736</td>\n",
       "      <td>-0.461091</td>\n",
       "      <td>-0.710885</td>\n",
       "      <td>-0.761760</td>\n",
       "    </tr>\n",
       "    <tr>\n",
       "      <th>1</th>\n",
       "      <td>1.0</td>\n",
       "      <td>-1.612963</td>\n",
       "      <td>0.709920</td>\n",
       "      <td>-0.277540</td>\n",
       "      <td>-0.301827</td>\n",
       "      <td>-0.693297</td>\n",
       "      <td>-0.045695</td>\n",
       "      <td>1.116862</td>\n",
       "      <td>0.265971</td>\n",
       "      <td>-0.166048</td>\n",
       "      <td>0.714702</td>\n",
       "    </tr>\n",
       "    <tr>\n",
       "      <th>2</th>\n",
       "      <td>1.0</td>\n",
       "      <td>0.125936</td>\n",
       "      <td>-0.058708</td>\n",
       "      <td>1.030243</td>\n",
       "      <td>0.559735</td>\n",
       "      <td>-2.658385</td>\n",
       "      <td>1.007996</td>\n",
       "      <td>-2.100631</td>\n",
       "      <td>-0.566372</td>\n",
       "      <td>0.213499</td>\n",
       "      <td>0.175267</td>\n",
       "    </tr>\n",
       "    <tr>\n",
       "      <th>3</th>\n",
       "      <td>1.0</td>\n",
       "      <td>-1.537551</td>\n",
       "      <td>-0.717175</td>\n",
       "      <td>0.635024</td>\n",
       "      <td>-0.351591</td>\n",
       "      <td>-2.295090</td>\n",
       "      <td>-0.855000</td>\n",
       "      <td>1.655498</td>\n",
       "      <td>-0.263762</td>\n",
       "      <td>0.068151</td>\n",
       "      <td>0.629417</td>\n",
       "    </tr>\n",
       "    <tr>\n",
       "      <th>4</th>\n",
       "      <td>1.0</td>\n",
       "      <td>-0.072209</td>\n",
       "      <td>-2.155744</td>\n",
       "      <td>0.533470</td>\n",
       "      <td>1.597083</td>\n",
       "      <td>1.331926</td>\n",
       "      <td>-0.658985</td>\n",
       "      <td>1.094355</td>\n",
       "      <td>0.815541</td>\n",
       "      <td>0.204426</td>\n",
       "      <td>0.872842</td>\n",
       "    </tr>\n",
       "  </tbody>\n",
       "</table>\n",
       "</div>"
      ],
      "text/plain": [
       "    0         1         2         3         4         5         6         7   \\\n",
       "0  1.0  1.764831  1.579606  0.093808  0.341546  0.103202  0.745205  0.421736   \n",
       "1  1.0 -1.612963  0.709920 -0.277540 -0.301827 -0.693297 -0.045695  1.116862   \n",
       "2  1.0  0.125936 -0.058708  1.030243  0.559735 -2.658385  1.007996 -2.100631   \n",
       "3  1.0 -1.537551 -0.717175  0.635024 -0.351591 -2.295090 -0.855000  1.655498   \n",
       "4  1.0 -0.072209 -2.155744  0.533470  1.597083  1.331926 -0.658985  1.094355   \n",
       "\n",
       "         8         9         10  \n",
       "0 -0.461091 -0.710885 -0.761760  \n",
       "1  0.265971 -0.166048  0.714702  \n",
       "2 -0.566372  0.213499  0.175267  \n",
       "3 -0.263762  0.068151  0.629417  \n",
       "4  0.815541  0.204426  0.872842  "
      ]
     },
     "execution_count": 20,
     "metadata": {},
     "output_type": "execute_result"
    }
   ],
   "source": [
    "X = preprocess(X)\n",
    "pd.DataFrame(X).head()"
   ]
  },
  {
   "cell_type": "markdown",
   "id": "6961520f",
   "metadata": {},
   "source": [
    "**Train test split**"
   ]
  },
  {
   "cell_type": "code",
   "execution_count": 21,
   "id": "08e2630d",
   "metadata": {},
   "outputs": [],
   "source": [
    "XT, Xt, yT, yt = train_test_split(X, y, test_size=0.3, shuffle=False, random_state=0)"
   ]
  },
  {
   "cell_type": "code",
   "execution_count": 22,
   "id": "8784a8fb",
   "metadata": {},
   "outputs": [
    {
     "name": "stdout",
     "output_type": "stream",
     "text": [
      "XT Shape: (350, 11) Xt Shape: (150, 11) yT Shape: (350,) yt Shape: (150,)\n"
     ]
    }
   ],
   "source": [
    "print(\"XT Shape:\", XT.shape, \"Xt Shape:\", Xt.shape, \"yT Shape:\", yT.shape,\"yt Shape:\", yt.shape)"
   ]
  },
  {
   "cell_type": "markdown",
   "id": "60604e1d",
   "metadata": {},
   "source": [
    "**Modelling**\n",
    "\n",
    "Matrices shape:\n",
    "\n",
    "$X_(mx(n+1))$\n",
    "\n",
    "$\\theta_((n+1), 1)$\n",
    "\n",
    "$(X \\cdot \\theta)_{(m,1)}$\n",
    "\n",
    "\n",
    "Dot product:\n",
    "\n",
    "$$X \\cdot \\theta = h_{\\theta}(x^{(i)}) = \\begin{bmatrix}1 & x_1^{(i)} & x_2^{(i)} & x_3^{(i)} & ... & X_n^{(i)}\\end{bmatrix} \\begin{bmatrix} \\\\ \\theta_0 \\\\ \\theta_1 \\\\ \\theta_2 \\\\ \\theta_3 \\\\ ... \\\\ \\theta_n\\end{bmatrix} = \\theta_0 + \\theta_1x_1^{(i)} + \\theta_2x_2^{(i)} + \\theta_3x_3^{(i)} + \\theta_nx_n^{(i)}$$"
   ]
  },
  {
   "cell_type": "code",
   "execution_count": 23,
   "id": "f44c9329",
   "metadata": {},
   "outputs": [],
   "source": [
    "def hypothesis(X, theta):\n",
    "    return np.dot(X, theta)"
   ]
  },
  {
   "cell_type": "markdown",
   "id": "3d1db7b1",
   "metadata": {},
   "source": [
    "$$J = \\frac{1}{2m}\\sum_{i=1}^{m}[h_\\theta(x^{(i)}) - y^{(i)}]²$$"
   ]
  },
  {
   "cell_type": "code",
   "execution_count": 24,
   "id": "d45ac3f4",
   "metadata": {},
   "outputs": [],
   "source": [
    "def loss(X, y, theta):\n",
    "    yp = hypothesis(X, theta) # shape (m,1)\n",
    "    error = np.mean((y - yp)**2)\n",
    "    return error"
   ]
  },
  {
   "cell_type": "markdown",
   "id": "39482c68",
   "metadata": {},
   "source": [
    "$$\\theta_j = \\theta_j - \\alpha * \\frac{\\partial J(\\theta)}{\\partial \\theta_j}$$\n",
    "\n",
    "$$\\frac{\\partial J(\\theta)}{\\partial \\theta_j} =  \\frac{1}{m}\\sum_{i=1}^{m}[h_\\theta(x^{(i)}) - y^{(i)}]x_j^{(i)}$$"
   ]
  },
  {
   "cell_type": "code",
   "execution_count": 30,
   "id": "75e42e14",
   "metadata": {},
   "outputs": [],
   "source": [
    "def gradient(X, y, theta):\n",
    "    yp = hypothesis(X, theta)\n",
    "    m = X.shape[0]\n",
    "    grad = np.dot(X.T, (yp - y))\n",
    "    return grad / m"
   ]
  },
  {
   "cell_type": "markdown",
   "id": "cabdbe26",
   "metadata": {},
   "source": [
    "**Training**"
   ]
  },
  {
   "cell_type": "code",
   "execution_count": 31,
   "id": "240d2ba3",
   "metadata": {},
   "outputs": [],
   "source": [
    " def train(X, y, learning_rate=0.1, max_iters=100):\n",
    "    n = X.shape[1] # N° of features\n",
    "    theta = np.random.randn(n) # Initialize random theta values\n",
    "    error_list = []\n",
    "    \n",
    "    for i in range(max_iters):\n",
    "        error = loss(X, y, theta)\n",
    "        error_list.append(error)\n",
    "        grad = gradient(X, y, theta)\n",
    "        theta = theta - learning_rate * grad\n",
    "    \n",
    "    plt.title(\"Error\")\n",
    "    plt.xlabel(\"Iteration\")\n",
    "    plt.ylabel(\"Loss\")\n",
    "    plt.plot(error_list)\n",
    "    return theta, error_list"
   ]
  },
  {
   "cell_type": "code",
   "execution_count": 32,
   "id": "81313980",
   "metadata": {},
   "outputs": [
    {
     "data": {
      "image/png": "[encoded data removed]",
      "text/plain": [
       "<Figure size 640x480 with 1 Axes>"
      ]
     },
     "metadata": {},
     "output_type": "display_data"
    }
   ],
   "source": [
    "theta, error_list = train(XT, yT)"
   ]
  },
  {
   "cell_type": "markdown",
   "id": "0fef3b4a",
   "metadata": {},
   "source": [
    "**Evaluation: R2 Score**\n",
    "\n",
    "Coefficient of determination is a statistical measure of how well the regression predictions aproximate the real data points.\n",
    "\n",
    "An $R2$ score has a range between 0 and 1. $R2 = 1$ means the predicted points fit 100% the real target points, which indicates the regression predictions prefectly fit the data, while $R2 = 0$ means 0% of accuracy.\n",
    "\n",
    "\n",
    "$$R2 Score = 1 - \\frac{T1}{T2}$$\n",
    "\n",
    "$T1$: Distances of the target data points from the predicted data points (Projected Line).\n",
    "\n",
    "$$\\sum_{i=1}^{m}(y^{(i)} - ŷ^{(i)})²$$\n",
    "\n",
    "$T2$: Distances of the target data points from the mean.\n",
    "\n",
    "$$\\sum_{i=1}^{m}(y^{(i)} - \\overline{y})²$$\n",
    "\n",
    "$$R2 = 1 - \\frac{\\sum_{i=1}^{m}(y^{(i)} - ŷ^{(i)})²}{\\sum_{i=1}^{m}(y^{(i)} - \\overline{y})²}$$"
   ]
  },
  {
   "cell_type": "code",
   "execution_count": 34,
   "id": "12e4eb0c",
   "metadata": {},
   "outputs": [],
   "source": [
    "def r2Score(y, yp):\n",
    "    T1 = np.sum((y - yp)**2)\n",
    "    T2 = np.sum((y - y.mean())**2)\n",
    "    return 1 - (T1 / T2)"
   ]
  },
  {
   "cell_type": "code",
   "execution_count": 35,
   "id": "a00c7563",
   "metadata": {},
   "outputs": [],
   "source": [
    "yp = hypothesis(Xt, theta)"
   ]
  },
  {
   "cell_type": "code",
   "execution_count": 39,
   "id": "5abde112",
   "metadata": {},
   "outputs": [
    {
     "name": "stdout",
     "output_type": "stream",
     "text": [
      "R2 Score: 0.9321413718969671 = 93.21%\n"
     ]
    }
   ],
   "source": [
    "r2 = r2Score(yt, yp)\n",
    "print(\"R2 Score:\", r2, \"=\", f\"{round(r2*100, 2)}%\")"
   ]
  }
 ],
 "metadata": {
  "kernelspec": {
   "display_name": "Python 3 (ipykernel)",
   "language": "python",
   "name": "python3"
  },
  "language_info": {
   "codemirror_mode": {
    "name": "ipython",
    "version": 3
   },
   "file_extension": ".py",
   "mimetype": "text/x-python",
   "name": "python",
   "nbconvert_exporter": "python",
   "pygments_lexer": "ipython3",
   "version": "3.11.7"
  }
 },
 "nbformat": 4,
 "nbformat_minor": 5
}
